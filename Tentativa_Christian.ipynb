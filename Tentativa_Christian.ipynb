{
 "cells": [
  {
   "cell_type": "code",
   "execution_count": null,
   "metadata": {},
   "outputs": [],
   "source": [
    "import numpy as np\n",
    "import matplotlib.pyplot as plt\n",
    "import pandas as pd\n",
    "\n",
    "piracy_data = pd.read_csv(filepath_or_buffer='./piracydataset.csv')\n",
    "sales_data = pd.read_csv(filepath_or_buffer='./vgsales.csv')\n",
    "idade_media_pirataria = pd.DataFrame(piracy_data, columns=['age','version'])\n",
    "\n",
    "plt.bar(data=sales_data[ sales_data['Name'] == 'Minecraft'],height='Global_Sales',x='Platform')\n",
    "\n"
   ]
  }
 ],
 "metadata": {
  "language_info": {
   "name": "python"
  }
 },
 "nbformat": 4,
 "nbformat_minor": 2
}
