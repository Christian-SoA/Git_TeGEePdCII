{
 "cells": [
  {
   "cell_type": "markdown",
   "metadata": {},
   "source": [
    "1° Hipótese: com o aumento do índice de pirataria de jogos, como por exemplo Minecraft (da mojang), seria mais provável que fosse feito por pessoas maiores de idade, que possam responder por seus atos"
   ]
  },
  {
   "cell_type": "code",
   "execution_count": 11,
   "metadata": {},
   "outputs": [
    {
     "data": {
      "text/plain": [
       "age    0.367258\n",
       "dtype: float64"
      ]
     },
     "execution_count": 11,
     "metadata": {},
     "output_type": "execute_result"
    }
   ],
   "source": [
    "import numpy as np\n",
    "import matplotlib.pyplot as plt\n",
    "import pandas as pd\n",
    "\n",
    "piracy_data = pd.read_csv(filepath_or_buffer='./piracydataset.csv')\n",
    "sales_data = pd.read_csv(filepath_or_buffer='./vgsales.csv')\n",
    "idade_media_pirataria = pd.DataFrame(piracy_data, columns=['age','version'])\n",
    "idade_media_pirataria.head()\n",
    "idade_media_pirataria.describe()\n",
    "idade_media_pirataria.skew(numeric_only='age')\n",
    "\n",
    "\n",
    "#plt.plot()\n"
   ]
  }
 ],
 "metadata": {
  "kernelspec": {
   "display_name": ".venv",
   "language": "python",
   "name": "python3"
  },
  "language_info": {
   "codemirror_mode": {
    "name": "ipython",
    "version": 3
   },
   "file_extension": ".py",
   "mimetype": "text/x-python",
   "name": "python",
   "nbconvert_exporter": "python",
   "pygments_lexer": "ipython3",
   "version": "3.13.1"
  }
 },
 "nbformat": 4,
 "nbformat_minor": 2
}
